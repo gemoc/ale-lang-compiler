{
 "cells": [
  {
   "cell_type": "code",
   "execution_count": 48,
   "metadata": {},
   "outputs": [],
   "source": [
    "%matplotlib inline\n",
    "import numpy as np\n",
    "import matplotlib.pyplot as plt\n",
    "from numpy import average\n",
    "import numpy as np\n",
    "import scipy.stats\n",
    "\n",
    "def speedup(a,b):\n",
    "    return round(1.0/(b/a),2)\n",
    "\n",
    "def confidence_interval(data, confidence=0.95):\n",
    "    a = 1.0 * np.array(data)\n",
    "    n = len(a)\n",
    "    m, se = np.average(a), scipy.stats.sem(a)\n",
    "    h = se * scipy.stats.t.ppf((1 + confidence) / 2., n-1)\n",
    "    return round(h, 2)\n",
    "def avg(l):\n",
    "    return average(l[10:])\n",
    "\n",
    "def avg_smry(l, confidence=0.99):\n",
    "    a = avg(l)\n",
    "    ci = confidence_interval(l)\n",
    "    cip = round((ci * 100.0) / a,2)\n",
    "    return str(round(a/1000.0, 2)) + 's +/-' + str(ci) + 'ms ('+ str(cip)+'%)'"
   ]
  },
  {
   "cell_type": "markdown",
   "metadata": {},
   "source": [
    "# MiniJava + Switch + Fibonacci"
   ]
  },
  {
   "cell_type": "code",
   "execution_count": 49,
   "metadata": {},
   "outputs": [
    {
     "name": "stdout",
     "output_type": "stream",
     "text": [
      "22.87s +/-50.53ms (0.22%)\n",
      "18.84s +/-63.28ms (0.34%)\n",
      "Speedum Visitor vs Hostspot Interpreter 1.68\n",
      "Speedum Visitor vs Graal Interpreter 1.91\n",
      "Speedum Visitor vs Truffle 3.22\n",
      "Speedum Visitor vs Truffle + Dispatch 3.66\n"
     ]
    }
   ],
   "source": [
    "minijava_switch_raw=[21987, 22291, 22649, 23029, 23132, 23072, 22982, 22893, 22933, 23042, 22967, 22987, 22950, 22955, 22837, 22871, 22883, 22983, 22875, 22940, 22947, 22954, 22909, 22998, 22786, 22886, 22721, 22907, 22815, 22928, 22878, 22731, 22963, 22870, 22811, 22881, 22798, 22807, 22871, 22806, 22897, 22896, 22829, 22826, 22816, 22861, 22923, 22825, 22738, 22760]\n",
    "minijava_switch=avg(minijava_switch_raw)\n",
    "minijava_switch_graal_raw=[20253, 18669, 18709, 18598, 18707, 18699, 18753, 18622, 18763, 18780, 18841, 18671, 18842, 18782, 18683, 18677, 18855, 18835, 18816, 18844, 18936, 18771, 18824, 18943, 18812, 18819, 18869, 18852, 18916, 18836, 18854, 18720, 18848, 18805, 18835, 18901, 18824, 18793, 18927, 18908, 18726, 18971, 18860, 19008, 18835, 18735, 18835, 18851, 18860, 18906]\n",
    "minijava_switch_graal=avg(minijava_switch_graal_raw)\n",
    "minijava_hotspot_interpreter=13645.03\n",
    "minijava_graal_interpreter=11997.87\n",
    "minijava_truffle=7095.43\n",
    "minijava_truffle_dispatch=6246.83\n",
    "\n",
    "print(avg_smry(minijava_switch_raw))\n",
    "print(avg_smry(minijava_switch_graal_raw))\n",
    "\n",
    "print('Speedum Visitor vs Hostspot Interpreter', speedup(minijava_switch, minijava_hotspot_interpreter))\n",
    "print('Speedum Visitor vs Graal Interpreter', speedup(minijava_switch, minijava_graal_interpreter))\n",
    "print('Speedum Visitor vs Truffle', speedup(minijava_switch, minijava_truffle))\n",
    "print('Speedum Visitor vs Truffle + Dispatch', speedup(minijava_switch, minijava_truffle_dispatch))"
   ]
  },
  {
   "cell_type": "markdown",
   "metadata": {},
   "source": [
    "# MiniJava + Switch + Sort"
   ]
  },
  {
   "cell_type": "code",
   "execution_count": 50,
   "metadata": {},
   "outputs": [
    {
     "name": "stdout",
     "output_type": "stream",
     "text": [
      "17.56s +/-36.31ms (0.21%)\n",
      "14.92s +/-76.22ms (0.51%)\n",
      "Speedum Visitor vs Hostspot Interpreter 1.5\n",
      "Speedum Visitor vs Graal Interpreter 1.83\n",
      "Speedum Visitor vs Truffle 2.02\n",
      "Speedum Visitor vs Truffle + Dispatch 2.29\n"
     ]
    }
   ],
   "source": [
    "minijava_switch_raw=[17355, 17887, 17267, 17375, 17504, 17906, 17395, 17542, 17754, 17607, 17669, 17434, 17543, 17650, 17702, 17533, 17502, 17468, 17508, 17391, 17539, 17481, 17555, 17601, 17712, 17700, 17541, 17477, 17721, 17584, 17484, 17523, 17600, 17653, 17462, 17514, 17650, 17533, 17726, 17676, 17540, 17625, 17570, 17646, 17482, 17491, 17585, 17484, 17368, 17458]\n",
    "minijava_switch=avg(minijava_switch_raw)\n",
    "minijava_switch_graal_raw=[16471, 14981, 14951, 14938, 15122, 14870, 14581, 14702, 14697, 14794, 15025, 15073, 14670, 15025, 15067, 14744, 14691, 14780, 14716, 15010, 14970, 14711, 14735, 15084, 14846, 15045, 14852, 15093, 14949, 15136, 14823, 14996, 14830, 14789, 15073, 14919, 15014, 14812, 15073, 14707, 14974, 15083, 14709, 14820, 15052, 14966, 15119, 15171, 14819, 14916]\n",
    "minijava_swtich_graal=avg(minijava_switch_graal_raw)\n",
    "minijava_hotspot_interpreter=11688.23\n",
    "minijava_graal_interpreter=9608.3\n",
    "minijava_truffle=8692.5\n",
    "minijava_truffle_dispatch=7658.3\n",
    "\n",
    "\n",
    "print(avg_smry(minijava_switch_raw))\n",
    "print(avg_smry(minijava_switch_graal_raw))\n",
    "\n",
    "\n",
    "print('Speedum Visitor vs Hostspot Interpreter', speedup(minijava_switch, minijava_hotspot_interpreter))\n",
    "print('Speedum Visitor vs Graal Interpreter', speedup(minijava_switch, minijava_graal_interpreter))\n",
    "print('Speedum Visitor vs Truffle', speedup(minijava_switch, minijava_truffle))\n",
    "print('Speedum Visitor vs Truffle + Dispatch', speedup(minijava_switch, minijava_truffle_dispatch))"
   ]
  },
  {
   "cell_type": "markdown",
   "metadata": {},
   "source": [
    "# MiniJava + Switch + Binarytree"
   ]
  },
  {
   "cell_type": "code",
   "execution_count": 59,
   "metadata": {},
   "outputs": [
    {
     "name": "stdout",
     "output_type": "stream",
     "text": [
      "14.02s +/-47.09ms (0.34%)\n",
      "10.32s +/-143.41ms (1.39%)\n",
      "Speedum Visitor vs Hostspot Interpreter 333.73\n",
      "Speedum Visitor vs Graal Interpreter 333.73\n",
      "Speedum Visitor vs Truffle 333.73\n",
      "Speedum Visitor vs Truffle + Dispatch 333.73\n"
     ]
    }
   ],
   "source": [
    "minijava_switch_raw=[14448, 13981, 14011, 14417, 14000, 14501, 13920, 13952, 14343, 13910, 13951, 14493, 14028, 13980, 13964, 14443, 13960, 13889, 13918, 14013, 14229, 14022, 13907, 13982, 13994, 14138, 13936, 14039, 13967, 13935, 13928, 14003, 13999, 13910, 14021, 14001, 13993, 14100, 13963, 13976, 14086, 13941, 13978, 14245, 13896, 14008, 13912, 13988, 13984, 13941]\n",
    "minijava_switch=avg(minijava_switch_raw)\n",
    "minijava_switch_graal_raw=[13780, 10682, 10694, 10639, 11128, 10374, 10329, 10364, 10353, 10290, 10283, 10341, 10294, 10348, 10319, 10315, 10313, 10348, 10265, 10348, 10357, 10350, 10294, 10327, 10348, 10270, 10338, 10349, 10323, 10336, 10300, 10337, 10323, 10315, 10318, 10304, 10312, 10300, 10318, 10298, 10297, 10332, 10333, 10327, 10266, 10299, 10245, 10309, 10313, 10324]\n",
    "minijava_switch_graal=avg(minijava_switch_graal_raw)\n",
    "minijava_hotspot_interpreter=42\n",
    "minijava_graal_interpreter=42\n",
    "minijava_truffle=42\n",
    "minijava_truffle_dispatch=42\n",
    "\n",
    "print(avg_smry(minijava_switch_raw))\n",
    "print(avg_smry(minijava_switch_graal_raw))\n",
    "\n",
    "\n",
    "print('Speedum Visitor vs Hostspot Interpreter', speedup(minijava_switch, minijava_hotspot_interpreter))\n",
    "print('Speedum Visitor vs Graal Interpreter', speedup(minijava_switch, minijava_graal_interpreter))\n",
    "print('Speedum Visitor vs Truffle', speedup(minijava_switch, minijava_truffle))\n",
    "print('Speedum Visitor vs Truffle + Dispatch', speedup(minijava_switch, minijava_truffle_dispatch))"
   ]
  },
  {
   "cell_type": "markdown",
   "metadata": {},
   "source": [
    "# MiniJava + Switch + Fannkuchredux"
   ]
  },
  {
   "cell_type": "code",
   "execution_count": 61,
   "metadata": {},
   "outputs": [
    {
     "name": "stdout",
     "output_type": "stream",
     "text": [
      "13.25s +/-49.08ms (0.37%)\n",
      "10.51s +/-74.18ms (0.71%)\n",
      "Speedum Visitor vs Hostspot Interpreter 315.41\n",
      "Speedum Visitor vs Graal Interpreter 315.41\n",
      "Speedum Visitor vs Truffle 315.41\n",
      "Speedum Visitor vs Truffle + Dispatch 315.41\n"
     ]
    }
   ],
   "source": [
    "minijava_switch_raw=[14000, 13021, 12786, 12698, 12909, 13044, 13165, 13141, 13348, 13248, 13364, 13186, 13172, 13350, 13231, 13201, 13138, 13343, 13313, 13236, 13260, 13318, 13225, 13197, 13303, 13174, 13292, 13367, 13240, 13213, 13200, 13163, 13204, 13262, 13143, 13362, 13250, 13279, 13284, 13190, 13281, 13252, 13224, 13252, 13200, 13125, 13223, 13325, 13219, 13328]\n",
    "minijava_switch=avg(minijava_switch_raw)\n",
    "minijava_switch_graal_raw=[12287, 10420, 10498, 10402, 10347, 10383, 10369, 10429, 10436, 10406, 10554, 10432, 10474, 10447, 10447, 10507, 10622, 10477, 10448, 10459, 10454, 10492, 10503, 10485, 10508, 10464, 10508, 10556, 10529, 10527, 10536, 10514, 10538, 10488, 10600, 10515, 10483, 10593, 10443, 10544, 10461, 10538, 10496, 10508, 10438, 10488, 10525, 10575, 10500, 10557]\n",
    "minijava_switch_graal=avg(minijava_switch_graal_raw)\n",
    "minijava_hotspot_interpreter=42\n",
    "minijava_graal_interpreter=42\n",
    "minijava_truffle=42\n",
    "minijava_truffle_dispatch=42\n",
    "\n",
    "print(avg_smry(minijava_switch_raw))\n",
    "print(avg_smry(minijava_switch_graal_raw))\n",
    "\n",
    "\n",
    "print('Speedum Visitor vs Hostspot Interpreter', speedup(minijava_switch, minijava_hotspot_interpreter))\n",
    "print('Speedum Visitor vs Graal Interpreter', speedup(minijava_switch, minijava_graal_interpreter))\n",
    "print('Speedum Visitor vs Truffle', speedup(minijava_switch, minijava_truffle))\n",
    "print('Speedum Visitor vs Truffle + Dispatch', speedup(minijava_switch, minijava_truffle_dispatch))"
   ]
  },
  {
   "cell_type": "markdown",
   "metadata": {},
   "source": [
    "# Boa + Switch + Fibonacci"
   ]
  },
  {
   "cell_type": "code",
   "execution_count": 53,
   "metadata": {},
   "outputs": [
    {
     "name": "stdout",
     "output_type": "stream",
     "text": [
      "3.64s +/-16.02ms (0.44%)\n"
     ]
    }
   ],
   "source": [
    "print(avg_smry([3574, 3454, 3525, 3521, 3551, 3596, 3646, 3717, 3601, 3641, 3640, 3655, 3697, 3607, 3556, 3667, 3647, 3673, 3597, 3676, 3725, 3587, 3676, 3722, 3690, 3580, 3638, 3614, 3661, 3665, 3618, 3702, 3587, 3644, 3616, 3663, 3715, 3548, 3637, 3639, 3642, 3608, 3655, 3626, 3616, 3646, 3577, 3675, 3669, 3692]))\n"
   ]
  },
  {
   "cell_type": "markdown",
   "metadata": {},
   "source": [
    "# Boa + Switch + Sort"
   ]
  },
  {
   "cell_type": "code",
   "execution_count": 54,
   "metadata": {},
   "outputs": [
    {
     "name": "stdout",
     "output_type": "stream",
     "text": [
      "3.0s +/-7.33ms (0.24%)\n"
     ]
    }
   ],
   "source": [
    "print(avg_smry([2913, 2900, 3081, 2959, 3014, 3016, 2988, 2987, 3005, 3015, 3004, 2990, 3005, 3002, 3017, 3018, 3039, 2988, 2998, 3015, 3003, 3006, 2997, 2997, 2985, 3002, 3000, 2989, 3002, 3022, 2971, 3004, 3001, 3001, 3011, 3006, 3001, 2997, 2995, 3004, 2994, 3025, 3000, 3004, 3005, 2987, 2986, 2991, 2990, 3003]))"
   ]
  },
  {
   "cell_type": "markdown",
   "metadata": {},
   "source": [
    "# FSM + Switch + Buffers"
   ]
  },
  {
   "cell_type": "code",
   "execution_count": 57,
   "metadata": {},
   "outputs": [
    {
     "name": "stdout",
     "output_type": "stream",
     "text": [
      "13.07s +/-60.17ms (0.46%)\n"
     ]
    }
   ],
   "source": [
    "print(avg_smry([13531, 14419, 13063, 13106, 13020, 13145, 13122, 13043, 13110, 13266, 13177, 13085, 13113, 12923, 13044, 13142, 13132, 13129, 13151, 13026, 13075, 13047, 13073, 13033, 13017, 12947, 13041, 13134, 12979, 13203, 13052, 13082, 13127, 13083, 13063, 12933, 13029, 13065, 13052, 12984, 13085, 13038, 13010, 12980, 12963, 13115, 13151, 13182, 13066, 13150]))"
   ]
  },
  {
   "cell_type": "markdown",
   "metadata": {},
   "source": [
    "# Logo + Switch + Fractal"
   ]
  },
  {
   "cell_type": "code",
   "execution_count": 58,
   "metadata": {},
   "outputs": [
    {
     "name": "stdout",
     "output_type": "stream",
     "text": [
      "36.83s +/-164.14ms (0.45%)\n"
     ]
    }
   ],
   "source": [
    "print(avg_smry([37411, 37139, 38427, 36910, 37468, 36761, 36795, 37404, 36421, 37031, 36676, 36390, 36427, 36585, 36683, 36773, 36390, 37259, 36667, 38054, 36347, 36730, 37387, 36339, 36637, 37003, 36387, 36402, 37280, 36414, 36507, 37587, 36475, 36500, 38079, 36495, 36490, 36467, 37326, 36418, 36588, 38288, 36490, 36505, 36631, 37898, 36442, 36339, 36780, 38025]))\n"
   ]
  }
 ],
 "metadata": {
  "kernelspec": {
   "display_name": "Python 3",
   "language": "python",
   "name": "python3"
  },
  "language_info": {
   "codemirror_mode": {
    "name": "ipython",
    "version": 3
   },
   "file_extension": ".py",
   "mimetype": "text/x-python",
   "name": "python",
   "nbconvert_exporter": "python",
   "pygments_lexer": "ipython3",
   "version": "3.6.7"
  }
 },
 "nbformat": 4,
 "nbformat_minor": 2
}
