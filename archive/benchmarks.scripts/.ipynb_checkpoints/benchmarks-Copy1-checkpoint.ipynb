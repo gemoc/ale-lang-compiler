{
 "cells": [
  {
   "cell_type": "code",
   "execution_count": 15,
   "metadata": {},
   "outputs": [],
   "source": [
    "interpreter_java8_logo_fractal=[565, 257, 237, 246, 287, 295, 288, 288, 291, 328, 355, 315, 237, 230, 245, 226, 231, 246, 240, 233, 227, 224, 238, 232, 215, 224, 271, 228, 215, 245, 221, 248, 266, 231, 228, 232, 246, 244, 234, 232, 262, 279, 244, 261, 281, 277, 233, 282, 243, 301, 218, 229, 248, 253, 331, 309, 227, 225, 244, 224, 246, 229, 211, 229, 218, 229, 248, 253, 227, 250, 239, 235, 261, 275, 230, 240, 231, 241, 228, 233, 226, 236, 224, 308, 275, 221, 226, 229, 214, 233, 270, 249, 236, 248, 223, 226, 223, 209, 233, 230, 219, 216, 217, 219, 235, 236, 225, 221, 215, 231, 202, 211, 275, 226, 227, 243, 251, 250, 237, 234, 220, 249, 268, 278, 293, 287, 310, 269, 246, 244, 276, 256, 242, 244, 230, 231, 254, 237, 224, 225, 227, 225, 224, 227, 249, 275, 273, 280, 239, 293, 261, 266, 239, 230, 220, 240, 221, 243, 277, 279, 289, 239, 239, 252, 224, 213, 225, 229, 222, 212, 244, 262, 230, 225, 222, 224, 217, 223, 229, 244, 238, 241, 223, 238, 221, 225, 228, 214, 219, 224, 252, 294, 292, 242, 226, 272, 243, 226, 264, 231, 237, 233, 238, 239, 235, 250, 242, 232, 220, 211, 228, 213, 226, 236, 232, 205, 221, 228, 259, 227, 238, 269, 260, 261, 238, 231, 236, 220, 224, 254, 290, 285, 223, 231, 233, 238, 248, 234, 238, 233, 245, 228, 267, 227, 256, 271, 266, 244, 241, 245, 279, 270, 228, 240, 287, 239, 256, 274, 241, 287, 254, 228, 258, 218, 222, 201, 248, 224, 226, 221, 275, 245, 257, 209, 211, 217, 212, 205, 210, 221, 250, 295, 284, 284, 287, 287, 244, 232, 239, 245, 250, 235, 225, 290, 265, 251, 231, 229, 249, 256, 236, 258, 235, 253, 252, 242, 276, 268, 237, 241, 218, 232, 256, 263, 229, 245, 220, 255, 241, 263, 248, 228, 243, 260, 232, 283, 276, 286, 287, 263, 279, 261, 241, 234, 246, 276, 286, 253, 241, 228, 256, 279, 229, 235, 230, 210, 222, 223, 226, 239, 249, 232, 227, 237, 241, 239, 273, 245, 272, 226, 242, 291, 235, 239, 220, 214, 232, 217, 219, 265, 284, 220, 286, 289, 270, 265, 235, 242, 243, 272, 276, 277, 247, 236, 227, 209, 273, 216, 230, 227, 237, 282, 274, 252, 277, 226, 245, 264, 224, 228, 282, 256, 237, 214, 213, 241, 220, 226, 227, 267, 264, 211, 227, 255, 275, 267, 273, 218, 220, 227, 224, 228, 227, 224, 226, 223, 235, 247, 239, 228, 239, 218, 234, 259, 223, 228, 259, 224, 249, 234, 284, 243, 230, 219, 219, 229, 237, 224, 226, 223, 237, 233, 259, 248, 234, 242, 279, 252, 232, 247, 260, 240, 300, 272, 285, 290, 296, 264, 250, 285, 261, 230, 223, 219, 273, 236, 309, 294, 242, 360, 297, 235, 230, 235, 236, 249, 245, 244, 240, 233, 284, 217, 276, 258, 286, 264, 296, 288, 286, 238]\n",
    "interpreter_graalvm_logo_fractal=[1681, 792, 542, 526, 526, 528, 361, 331, 339, 312, 422, 296, 320, 342, 350, 275, 237, 296, 254, 194, 189, 198, 343, 211, 198, 188, 192, 192, 199, 171, 172, 187, 196, 377, 310, 349, 253, 202, 200, 193, 193, 172, 197, 181, 283, 182, 191, 186, 177, 184, 260, 187, 179, 186, 236, 234, 263, 204, 278, 205, 208, 243, 295, 221, 200, 185, 190, 176, 200, 182, 258, 209, 188, 190, 183, 191, 195, 183, 180, 195, 225, 217, 220, 216, 213, 164, 177, 173, 185, 188, 188, 212, 171, 175, 169, 207, 176, 175, 190, 167, 217, 177, 190, 199, 169, 182, 247, 163, 211, 199, 215, 233, 218, 189, 207, 193, 206, 188, 189, 183, 185, 185, 183, 188, 194, 178, 185, 168, 179, 174, 219, 212, 225, 218, 217, 217, 185, 189, 182, 190, 172, 194, 174, 197, 187, 192, 185, 179, 189, 172, 184, 197, 235, 177, 185, 197, 206, 208, 199, 198, 185, 268, 190, 203, 277, 199, 191, 205, 207, 233, 167, 186, 185, 185, 217, 208, 220, 222, 221, 222, 221, 221, 222, 224, 218, 183, 168, 204, 186, 181, 175, 202, 172, 183, 177, 213, 189, 208, 183, 167, 182, 170, 175, 167, 208, 182, 182, 213, 201, 187, 160, 222, 223, 220, 220, 219, 181, 185, 193, 200, 209, 244, 210, 183, 173, 173, 195, 178, 282, 191, 231, 175, 181, 193, 185, 188, 182, 178, 188, 188, 185, 198, 183, 182, 198, 200, 180, 188, 178, 196, 195, 196, 195, 201, 222, 182, 163, 191, 235, 352, 212, 200, 212, 178, 198, 191, 168, 179, 175, 186, 192, 193, 189, 169, 194, 196, 189, 172, 186, 178, 200, 183, 208, 182, 175, 182, 172, 169, 189, 183, 167, 196, 215, 217, 229, 220, 217, 215, 217, 184, 184, 181, 168, 203, 187, 184, 178, 185, 219, 260, 187, 195, 190, 193, 257, 181, 166, 191, 193, 184, 183, 182, 170, 168, 178, 187, 176, 185, 167, 175, 172, 183, 234, 189, 174, 184, 192, 171, 171, 177, 199, 194, 208, 218, 214, 208, 169, 164, 182, 176, 177, 184, 174, 184, 183, 219, 292, 282, 157, 159, 158, 180, 167, 190, 164, 171, 218, 209, 267, 218, 218, 220, 194, 223, 199, 187, 208, 198, 171, 182, 207, 210, 184, 226, 222, 223, 220, 226, 225, 201, 176, 161, 175, 206, 197, 184, 162, 179, 198, 177, 173, 195, 200, 177, 192, 196, 190, 173, 184, 168, 183, 186, 193, 185, 191, 195, 181, 182, 180, 225, 189, 176, 183, 173, 247, 222, 220, 217, 215, 219, 201, 210, 222, 190, 171, 189, 177, 176, 188, 170, 175, 174, 199, 195, 199, 196, 181, 204, 176, 190, 195, 174, 192, 185, 168, 169, 179, 176, 195, 172, 173, 178, 190, 185, 169, 211, 222, 217, 218, 221, 197, 191, 181, 186, 184, 161, 184, 181, 178, 162, 175, 165, 172, 162, 173, 168, 176, 200, 200, 198, 175, 217, 219, 216, 193, 165, 163, 178, 178, 174]\n",
    "revisitor_java8_logo_fractal=[745, 355, 317, 324, 287, 283, 250, 267, 325, 329, 311, 261, 291, 279, 318, 277, 288, 313, 245, 251, 257, 304, 276, 300, 307, 242, 245, 258, 226, 249, 229, 254, 244, 248, 268, 309, 285, 231, 269, 275, 246, 253, 264, 256, 321, 270, 226, 233, 308, 309, 248, 285, 241, 221, 279, 233, 234, 229, 275, 245, 256, 238, 244, 275, 271, 283, 277, 258, 240, 264, 281, 251, 254, 236, 251, 302, 259, 257, 241, 254, 294, 236, 300, 237, 231, 241, 240, 303, 285, 253, 261, 274, 269, 227, 230, 244, 267, 291, 252, 293, 246, 305, 236, 268, 299, 294, 226, 248, 242, 268, 322, 333, 300, 370, 324, 297, 331, 276, 260, 268, 257, 236, 245, 267, 301, 266, 276, 312, 300, 268, 267, 255, 265, 247, 242, 238, 256, 240, 240, 227, 236, 234, 240, 244, 245, 230, 246, 245, 251, 299, 304, 256, 250, 249, 269, 239, 240, 253, 298, 301, 243, 253, 257, 233, 258, 306, 305, 232, 234, 256, 239, 235, 257, 263, 237, 229, 231, 283, 234, 228, 253, 257, 250, 284, 284, 279, 270, 285, 240, 222, 247, 252, 255, 303, 289, 248, 266, 253, 243, 233, 223, 218, 219, 253, 253, 254, 233, 231, 221, 244, 240, 237, 235, 274, 301, 245, 252, 344, 276, 266, 259, 262, 285, 259, 273, 266, 276, 310, 307, 295, 271, 258, 261, 259, 253, 277, 262, 287, 266, 253, 246, 269, 305, 308, 248, 232, 247, 256, 235, 256, 293, 266, 250, 280, 245, 256, 297, 262, 247, 271, 274, 246, 245, 245, 300, 242, 247, 225, 257, 271, 247, 253, 258, 284, 250, 241, 246, 243, 245, 244, 229, 243, 307, 302, 249, 243, 225, 220, 255, 252, 255, 241, 267, 263, 302, 286, 261, 250, 257, 249, 234, 236, 240, 255, 243, 248, 268, 266, 226, 246, 305, 253, 319, 270, 245, 243, 257, 289, 254, 269, 244, 275, 308, 255, 288, 278, 320, 254, 242, 242, 245, 254, 254, 256, 312, 315, 313, 291, 283, 276, 302, 314, 318, 312, 275, 252, 242, 290, 259, 237, 252, 310, 294, 255, 236, 265, 247, 252, 250, 240, 261, 246, 246, 242, 248, 300, 249, 269, 256, 242, 243, 249, 233, 232, 220, 231, 241, 300, 284, 310, 309, 305, 307, 279, 252, 254, 250, 285, 301, 275, 237, 279, 252, 257, 303, 260, 247, 267, 289, 259, 250, 252, 236, 235, 246, 253, 285, 299, 257, 257, 292, 303, 239, 240, 231, 247, 241, 226, 239, 249, 268, 246, 238, 275, 325, 270, 282, 230, 242, 243, 240, 259, 246, 257, 264, 285, 254, 249, 240, 248, 289, 235, 237, 237, 244, 265, 263, 296, 301, 248, 254, 291, 308, 294, 252, 245, 266, 253, 251, 266, 292, 264, 294, 276, 239, 259, 292, 272, 243, 245, 235, 253, 256, 270, 279, 241, 241, 244, 257, 299, 273, 259, 236, 244, 267, 252, 268, 255, 232, 243, 268, 300, 281, 256, 262, 250, 245, 253, 260, 274]\n",
    "revisitor_graalvm_logo_fractal=[1883, 1401, 643, 738, 523, 420, 398, 325, 296, 307, 349, 310, 417, 379, 294, 214, 340, 229, 250, 310, 225, 177, 182, 195, 185, 176, 189, 178, 233, 189, 344, 209, 246, 227, 391, 410, 225, 223, 223, 188, 178, 179, 194, 187, 188, 192, 211, 192, 226, 228, 217, 372, 207, 249, 184, 200, 211, 191, 338, 448, 255, 300, 312, 254, 263, 287, 246, 251, 254, 226, 223, 228, 227, 182, 211, 194, 183, 197, 183, 189, 308, 189, 192, 199, 203, 265, 190, 193, 189, 200, 200, 189, 195, 197, 204, 230, 215, 198, 194, 196, 198, 197, 186, 226, 177, 293, 184, 198, 187, 181, 197, 179, 175, 200, 241, 206, 187, 228, 228, 215, 187, 200, 200, 202, 189, 198, 201, 229, 226, 229, 243, 224, 225, 213, 179, 170, 184, 228, 180, 178, 178, 189, 192, 189, 183, 186, 195, 184, 190, 169, 183, 172, 164, 178, 172, 164, 180, 179, 189, 198, 167, 174, 180, 174, 178, 174, 204, 207, 181, 188, 177, 179, 188, 200, 189, 226, 211, 184, 186, 182, 179, 189, 189, 181, 175, 187, 172, 177, 182, 177, 193, 193, 183, 247, 224, 228, 180, 197, 179, 172, 185, 172, 185, 200, 200, 178, 193, 189, 185, 184, 195, 197, 177, 211, 173, 171, 184, 174, 210, 182, 172, 170, 187, 187, 186, 221, 180, 189, 188, 205, 257, 223, 192, 197, 196, 190, 212, 230, 189, 182, 193, 203, 187, 201, 202, 195, 202, 208, 195, 199, 191, 180, 192, 182, 203, 189, 326, 234, 193, 182, 190, 195, 227, 201, 207, 183, 182, 194, 187, 164, 185, 183, 172, 178, 217, 177, 195, 197, 192, 177, 189, 174, 174, 191, 193, 184, 179, 181, 173, 188, 174, 179, 166, 178, 191, 181, 216, 193, 178, 190, 191, 181, 185, 185, 186, 178, 188, 195, 166, 182, 184, 211, 202, 184, 185, 188, 194, 195, 191, 231, 215, 196, 176, 186, 198, 206, 229, 227, 227, 204, 269, 200, 187, 183, 201, 191, 196, 198, 184, 185, 179, 183, 188, 179, 189, 198, 185, 178, 185, 187, 186, 185, 202, 182, 169, 196, 328, 233, 223, 227, 200, 185, 196, 173, 191, 176, 180, 180, 193, 206, 195, 187, 198, 207, 199, 189, 204, 202, 203, 192, 202, 202, 220, 202, 224, 220, 229, 242, 228, 226, 228, 194, 213, 208, 234, 242, 211, 174, 232, 220, 200, 184, 197, 192, 190, 189, 199, 175, 189, 223, 202, 190, 195, 180, 189, 178, 171, 166, 202, 183, 185, 181, 183, 186, 193, 184, 186, 190, 185, 194, 179, 175, 190, 190, 254, 223, 225, 197, 180, 292, 231, 232, 219, 191, 192, 188, 189, 204, 185, 193, 191, 191, 206, 194, 192, 194, 194, 186, 181, 188, 181, 181, 202, 184, 210, 190, 189, 173, 182, 262, 240, 221, 213, 230, 225, 224, 229, 234, 224, 226, 219, 171, 186, 169, 175, 175, 194, 167, 179, 171, 165, 185, 175, 169, 173, 170, 211, 194, 184, 192]\n",
    "visitor_java8_logo_fractal=[663, 340, 287, 274, 223, 271, 275, 307, 242, 245, 261, 279, 278, 260, 261, 275, 286, 306, 308, 305, 284, 253, 245, 243, 264, 232, 278, 294, 265, 247, 283, 267, 240, 237, 240, 236, 246, 234, 229, 235, 293, 291, 250, 233, 268, 291, 295, 265, 254, 366, 276, 242, 232, 298, 260, 266, 252, 279, 256, 257, 269, 276, 248, 248, 250, 262, 259, 252, 285, 248, 258, 246, 235, 240, 234, 254, 274, 227, 254, 244, 246, 262, 302, 241, 223, 225, 227, 219, 225, 249, 256, 235, 262, 280, 251, 249, 246, 254, 264, 286, 241, 261, 268, 292, 261, 246, 281, 277, 262, 259, 239, 245, 234, 237, 234, 255, 292, 272, 240, 259, 232, 291, 293, 293, 239, 221, 239, 248, 279, 240, 283, 246, 238, 255, 224, 236, 241, 241, 232, 250, 260, 248, 235, 245, 243, 249, 264, 244, 250, 238, 241, 258, 247, 256, 258, 226, 218, 233, 232, 229, 229, 242, 237, 223, 276, 287, 292, 248, 243, 248, 301, 229, 226, 228, 237, 234, 238, 245, 253, 236, 242, 237, 252, 270, 292, 241, 253, 247, 241, 306, 266, 297, 278, 258, 267, 255, 263, 284, 241, 224, 246, 246, 239, 217, 249, 233, 226, 301, 270, 241, 222, 234, 252, 253, 272, 237, 285, 269, 302, 296, 289, 250, 224, 264, 269, 256, 253, 253, 238, 285, 252, 244, 228, 251, 252, 258, 328, 290, 255, 285, 229, 237, 279, 222, 215, 232, 258, 253, 302, 256, 291, 255, 302, 291, 258, 240, 261, 258, 243, 247, 259, 242, 237, 239, 249, 290, 299, 260, 253, 248, 249, 284, 268, 283, 255, 291, 286, 240, 241, 265, 234, 271, 298, 302, 275, 268, 228, 239, 230, 239, 243, 270, 262, 261, 260, 264, 241, 228, 234, 233, 210, 230, 223, 218, 217, 234, 220, 248, 280, 305, 234, 231, 220, 235, 234, 233, 234, 233, 253, 248, 236, 227, 226, 211, 224, 236, 216, 235, 240, 244, 244, 300, 295, 231, 250, 237, 246, 245, 257, 240, 249, 226, 246, 231, 246, 254, 237, 233, 235, 261, 281, 264, 249, 249, 258, 237, 260, 255, 244, 252, 232, 238, 236, 229, 226, 304, 298, 273, 289, 229, 227, 222, 222, 248, 292, 236, 266, 240, 238, 248, 252, 222, 243, 239, 257, 303, 301, 285, 248, 235, 249, 240, 254, 231, 231, 241, 276, 227, 245, 285, 239, 243, 242, 273, 272, 267, 234, 244, 226, 248, 249, 294, 285, 252, 246, 329, 271, 236, 244, 228, 261, 237, 230, 233, 239, 276, 248, 262, 249, 272, 307, 266, 236, 229, 272, 300, 252, 252, 269, 239, 244, 231, 240, 244, 281, 224, 219, 231, 239, 268, 301, 255, 245, 235, 236, 272, 290, 256, 265, 274, 295, 247, 244, 266, 304, 298, 277, 223, 232, 259, 233, 257, 242, 263, 290, 252, 248, 248, 275, 241, 232, 227, 240, 302, 241, 257, 251, 266, 242, 242, 268, 308, 299, 257, 249, 241, 258, 266, 312, 245]\n",
    "visitor_graalvm_logo_fractal=[1420, 1316, 617, 678, 664, 519, 434, 324, 287, 385, 354, 361, 369, 275, 259, 383, 348, 274, 233, 273, 218, 223, 217, 197, 209, 265, 176, 186, 185, 183, 224, 189, 277, 315, 285, 292, 222, 206, 244, 219, 224, 212, 232, 226, 250, 285, 252, 241, 392, 263, 276, 391, 411, 374, 186, 240, 201, 183, 203, 184, 288, 303, 188, 187, 230, 222, 211, 221, 204, 256, 180, 179, 179, 188, 248, 198, 172, 180, 222, 224, 254, 193, 186, 207, 303, 314, 209, 226, 191, 191, 218, 179, 172, 190, 188, 244, 213, 203, 202, 202, 182, 185, 179, 185, 226, 228, 221, 224, 205, 183, 234, 193, 184, 190, 183, 194, 207, 179, 224, 224, 195, 174, 192, 203, 173, 372, 194, 180, 182, 192, 268, 222, 202, 180, 188, 175, 228, 230, 231, 228, 224, 197, 197, 193, 182, 173, 182, 190, 185, 190, 180, 174, 173, 174, 186, 170, 183, 280, 180, 193, 184, 179, 175, 193, 199, 179, 191, 188, 188, 195, 187, 198, 180, 178, 187, 181, 224, 223, 207, 183, 185, 186, 188, 188, 172, 203, 191, 181, 193, 207, 201, 231, 184, 171, 183, 183, 191, 184, 177, 179, 185, 185, 188, 179, 241, 184, 186, 192, 185, 192, 175, 192, 183, 180, 200, 181, 180, 179, 183, 177, 164, 183, 174, 176, 185, 240, 232, 223, 224, 204, 191, 185, 184, 196, 190, 190, 180, 193, 203, 181, 186, 197, 200, 244, 187, 194, 270, 183, 176, 177, 187, 181, 183, 188, 197, 191, 214, 242, 196, 181, 181, 191, 201, 209, 163, 211, 193, 185, 175, 188, 182, 179, 203, 194, 223, 227, 252, 219, 222, 227, 222, 225, 198, 195, 191, 194, 189, 174, 178, 184, 197, 161, 187, 172, 190, 187, 182, 186, 200, 172, 174, 200, 198, 204, 202, 193, 190, 196, 197, 196, 202, 192, 228, 199, 195, 190, 191, 193, 188, 211, 194, 189, 193, 209, 195, 193, 207, 198, 198, 183, 412, 224, 192, 190, 188, 193, 218, 235, 197, 195, 187, 184, 187, 209, 204, 210, 194, 185, 178, 182, 203, 203, 200, 197, 187, 210, 226, 228, 226, 227, 223, 198, 178, 222, 226, 223, 223, 223, 224, 224, 223, 225, 220, 228, 203, 210, 214, 214, 179, 167, 180, 204, 197, 185, 179, 178, 181, 178, 177, 179, 179, 193, 192, 189, 203, 185, 210, 186, 203, 230, 189, 184, 191, 186, 200, 205, 210, 228, 224, 225, 226, 228, 232, 227, 222, 229, 227, 225, 224, 215, 181, 175, 190, 194, 209, 215, 200, 207, 224, 225, 235, 225, 222, 211, 178, 181, 181, 181, 180, 194, 188, 192, 191, 202, 190, 196, 181, 201, 271, 252, 208, 176, 192, 186, 189, 190, 190, 209, 226, 200, 216, 227, 224, 240, 314, 203, 233, 228, 224, 224, 228, 185, 177, 194, 191, 181, 173, 203, 183, 190, 186, 173, 182, 190, 174, 175, 204, 191, 174, 203, 195, 209, 176, 185, 193, 168, 179, 189, 178, 181]\n",
    "interpreter_graalvmtruffle_logo_fractal=[2982, 1199, 793, 678, 704, 410, 356, 450, 211, 478, 391, 173, 217, 232, 159, 178, 182, 230, 240, 172, 275, 133, 176, 153, 108, 146, 134, 157, 200, 119, 162, 162, 176, 126, 182, 152, 112, 138, 119, 239, 186, 117, 118, 171, 169, 119, 127, 117, 162, 131, 146, 113, 107, 112, 102, 95, 73, 99, 80, 104, 106, 100, 105, 144, 113, 105, 107, 114, 133, 86, 75, 75, 94, 170, 134, 111, 116, 98, 193, 111, 126, 114, 131, 135, 124, 230, 144, 179, 161, 104, 69, 97, 83, 93, 98, 119, 190, 125, 105, 145, 148, 111, 107, 101, 124, 146, 131, 104, 166, 103, 184, 138, 107, 98, 213, 139, 111, 104, 101, 129, 122, 104, 81, 84, 79, 78, 75, 151, 121, 102, 79, 81, 91, 102, 77, 104, 85, 95, 113, 89, 97, 93, 99, 104, 103, 91, 102, 91, 72, 82, 72, 105, 83, 76, 105, 95, 98, 110, 92, 105, 88, 95, 100, 72, 83, 87, 78, 85, 94, 82, 92, 98, 103, 99, 91, 99, 87, 98, 74, 85, 78, 69, 86, 102, 100, 85, 90, 75, 72, 77, 93, 101, 94, 93, 86, 99, 102, 114, 91, 109, 79, 94, 77, 93, 163, 90, 82, 81, 105, 93, 81, 88, 101, 87, 99, 72, 76, 82, 86, 120, 109, 90, 95, 97, 93, 112, 101, 131, 105, 111, 158, 196, 141, 121, 116, 70, 79, 71, 90, 73, 82, 95, 116, 106, 96, 103, 92, 100, 100, 95, 153, 111, 118, 118, 120, 191, 149, 158, 107, 138, 156, 131, 131, 112, 119, 98, 123, 152, 155, 127, 146, 124, 149, 94, 168, 111, 108, 209, 202, 140, 107, 114, 115, 109, 106, 98, 116, 102, 72, 86, 72, 75, 83, 81, 78, 77, 70, 77, 75, 90, 76, 72, 71, 94, 116, 85, 101, 84, 91, 96, 117, 92, 96, 75, 84, 98, 103, 113, 101, 99, 94, 86, 92, 75, 79, 72, 74, 99, 105, 104, 113, 198, 107, 91, 106, 108, 101, 79, 86, 76, 89, 89, 97, 107, 145, 148, 88, 70, 101, 108, 117, 87, 111, 106, 106, 75, 77, 77, 91, 92, 91, 89, 80, 92, 81, 92, 85, 81, 80, 89, 80, 71, 92, 91, 85, 78, 86, 79, 77, 81, 100, 84, 91, 85, 120, 76, 74, 74, 90, 100, 109, 108, 105, 101, 105, 90, 69, 78, 115, 80, 96, 119, 111, 109, 105, 102, 88, 84, 89, 103, 118, 121, 116, 118, 156, 197, 178, 110, 157, 101, 142, 117, 109, 103, 117, 101, 101, 101, 117, 102, 106, 110, 107, 95, 113, 103, 122, 87, 94, 92, 72, 106, 88, 103, 112, 212, 107, 115, 157, 136, 206, 192, 256, 228, 256, 265, 315, 159, 104, 127, 105, 106, 108, 110, 131, 102, 87, 71, 91, 97, 86, 97, 149, 79, 72, 77, 89, 73, 94, 101, 102, 101, 79, 91, 97, 101, 112, 137, 94, 120, 109, 93, 90, 105, 98, 106, 109, 98, 100, 113]"
   ]
  },
  {
   "cell_type": "code",
   "execution_count": 20,
   "metadata": {},
   "outputs": [
    {
     "name": "stdout",
     "output_type": "stream",
     "text": [
      "{'interpreter_java8_logo_fractal': 500, 'interpreter_graalvm_logo_fractal': 500, 'revisitor_java8_logo_fractal': 500, 'revisitor_graalvm_logo_fractal': 500, 'visitor_java8_logo_fractal': 500, 'visitor_graalvm_logo_fractal': 500, 'interpreter_graalvmtruffle_logo_fractal': 500}\n",
      "medians {'interpreter_java8_logo_fractal': 239.0, 'interpreter_graalvm_logo_fractal': 190.0, 'revisitor_java8_logo_fractal': 256.0, 'revisitor_graalvm_logo_fractal': 192.0, 'visitor_java8_logo_fractal': 249.0, 'visitor_graalvm_logo_fractal': 195.0, 'interpreter_graalvmtruffle_logo_fractal': 102.0}\n",
      "sums {'interpreter_java8_logo_fractal': 122998, 'interpreter_graalvm_logo_fractal': 102981, 'revisitor_java8_logo_fractal': 132011, 'revisitor_graalvm_logo_fractal': 106229, 'visitor_java8_logo_fractal': 127766, 'visitor_graalvm_logo_fractal': 107668, 'interpreter_graalvmtruffle_logo_fractal': 62924}\n",
      "avgs {'interpreter_java8_logo_fractal': 245.996, 'interpreter_graalvm_logo_fractal': 205.962, 'revisitor_java8_logo_fractal': 264.022, 'revisitor_graalvm_logo_fractal': 212.458, 'visitor_java8_logo_fractal': 255.532, 'visitor_graalvm_logo_fractal': 215.336, 'interpreter_graalvmtruffle_logo_fractal': 125.848}\n"
     ]
    },
    {
     "ename": "ValueError",
     "evalue": "shape mismatch: objects cannot be broadcast to a single shape",
     "output_type": "error",
     "traceback": [
      "\u001b[0;31m---------------------------------------------------------------------------\u001b[0m",
      "\u001b[0;31mValueError\u001b[0m                                Traceback (most recent call last)",
      "\u001b[0;32m<ipython-input-20-bb0aac4c1157>\u001b[0m in \u001b[0;36m<module>\u001b[0;34m()\u001b[0m\n\u001b[1;32m     21\u001b[0m \u001b[0mfig\u001b[0m\u001b[0;34m,\u001b[0m \u001b[0max\u001b[0m \u001b[0;34m=\u001b[0m \u001b[0mplt\u001b[0m\u001b[0;34m.\u001b[0m\u001b[0msubplots\u001b[0m\u001b[0;34m(\u001b[0m\u001b[0;34m)\u001b[0m\u001b[0;34m\u001b[0m\u001b[0m\n\u001b[1;32m     22\u001b[0m \u001b[0mplt\u001b[0m\u001b[0;34m.\u001b[0m\u001b[0mxticks\u001b[0m\u001b[0;34m(\u001b[0m\u001b[0mrotation\u001b[0m\u001b[0;34m=\u001b[0m\u001b[0;36m90\u001b[0m\u001b[0;34m)\u001b[0m\u001b[0;34m\u001b[0m\u001b[0m\n\u001b[0;32m---> 23\u001b[0;31m \u001b[0mplt\u001b[0m\u001b[0;34m.\u001b[0m\u001b[0mbar\u001b[0m\u001b[0;34m(\u001b[0m\u001b[0;34m[\u001b[0m\u001b[0;36m0\u001b[0m\u001b[0;34m,\u001b[0m\u001b[0;36m1\u001b[0m\u001b[0;34m,\u001b[0m\u001b[0;36m2\u001b[0m\u001b[0;34m,\u001b[0m\u001b[0;36m3\u001b[0m\u001b[0;34m,\u001b[0m \u001b[0;36m4\u001b[0m\u001b[0;34m,\u001b[0m \u001b[0;36m5\u001b[0m\u001b[0;34m]\u001b[0m\u001b[0;34m,\u001b[0m \u001b[0;34m(\u001b[0m\u001b[0mmedians\u001b[0m\u001b[0;34m[\u001b[0m\u001b[0;34m'interpreter_java8_logo_fractal'\u001b[0m\u001b[0;34m]\u001b[0m\u001b[0;34m,\u001b[0m \u001b[0mmedians\u001b[0m\u001b[0;34m[\u001b[0m\u001b[0;34m'visitor_java8_logo_fractal'\u001b[0m\u001b[0;34m]\u001b[0m\u001b[0;34m,\u001b[0m\u001b[0mmedians\u001b[0m\u001b[0;34m[\u001b[0m\u001b[0;34m'revisitor_java8_logo_fractal'\u001b[0m\u001b[0;34m]\u001b[0m\u001b[0;34m,\u001b[0m \u001b[0mmedians\u001b[0m\u001b[0;34m[\u001b[0m\u001b[0;34m'interpreter_graalvm_logo_fractal'\u001b[0m\u001b[0;34m]\u001b[0m\u001b[0;34m,\u001b[0m \u001b[0mmedians\u001b[0m\u001b[0;34m[\u001b[0m\u001b[0;34m'visitor_graalvm_logo_fractal'\u001b[0m\u001b[0;34m]\u001b[0m\u001b[0;34m,\u001b[0m  \u001b[0mmedians\u001b[0m\u001b[0;34m[\u001b[0m\u001b[0;34m'revisitor_graalvm_logo_fractal'\u001b[0m\u001b[0;34m]\u001b[0m\u001b[0;34m,\u001b[0m \u001b[0mmedians\u001b[0m\u001b[0;34m[\u001b[0m\u001b[0;34m'interpreter_graalvmtruffle_logo_fractal'\u001b[0m\u001b[0;34m]\u001b[0m\u001b[0;34m)\u001b[0m\u001b[0;34m)\u001b[0m\u001b[0;34m\u001b[0m\u001b[0m\n\u001b[0m\u001b[1;32m     24\u001b[0m \u001b[0max\u001b[0m\u001b[0;34m.\u001b[0m\u001b[0mset_xticks\u001b[0m\u001b[0;34m(\u001b[0m\u001b[0;34m[\u001b[0m\u001b[0;36m0\u001b[0m\u001b[0;34m,\u001b[0m\u001b[0;36m1\u001b[0m\u001b[0;34m,\u001b[0m\u001b[0;36m2\u001b[0m\u001b[0;34m,\u001b[0m\u001b[0;36m3\u001b[0m\u001b[0;34m,\u001b[0m \u001b[0;36m4\u001b[0m\u001b[0;34m,\u001b[0m \u001b[0;36m5\u001b[0m\u001b[0;34m]\u001b[0m\u001b[0;34m)\u001b[0m\u001b[0;34m\u001b[0m\u001b[0m\n\u001b[1;32m     25\u001b[0m \u001b[0max\u001b[0m\u001b[0;34m.\u001b[0m\u001b[0mset_xticklabels\u001b[0m\u001b[0;34m(\u001b[0m\u001b[0;34m[\u001b[0m\u001b[0;34m'interpreter_java8_logo_fractal'\u001b[0m\u001b[0;34m,\u001b[0m \u001b[0;34m'visitor_java8_logo_fractal'\u001b[0m\u001b[0;34m,\u001b[0m \u001b[0;34m'revisitor_java8_logo_fractal'\u001b[0m\u001b[0;34m,\u001b[0m  \u001b[0;34m'interpreter_graalvm_logo_fractal'\u001b[0m\u001b[0;34m,\u001b[0m  \u001b[0;34m'visitor_graalvm_logo_fractal'\u001b[0m\u001b[0;34m,\u001b[0m \u001b[0;34m'revisitor_graalvm_logo_fractal'\u001b[0m\u001b[0;34m,\u001b[0m \u001b[0;34m'interpreter_graalvmtruffle_logo_fractal'\u001b[0m\u001b[0;34m]\u001b[0m\u001b[0;34m)\u001b[0m\u001b[0;34m\u001b[0m\u001b[0m\n",
      "\u001b[0;32m~/anaconda3/lib/python3.6/site-packages/matplotlib/pyplot.py\u001b[0m in \u001b[0;36mbar\u001b[0;34m(x, height, width, bottom, align, data, **kwargs)\u001b[0m\n\u001b[1;32m   2457\u001b[0m     return gca().bar(\n\u001b[1;32m   2458\u001b[0m         \u001b[0mx\u001b[0m\u001b[0;34m,\u001b[0m \u001b[0mheight\u001b[0m\u001b[0;34m,\u001b[0m \u001b[0mwidth\u001b[0m\u001b[0;34m=\u001b[0m\u001b[0mwidth\u001b[0m\u001b[0;34m,\u001b[0m \u001b[0mbottom\u001b[0m\u001b[0;34m=\u001b[0m\u001b[0mbottom\u001b[0m\u001b[0;34m,\u001b[0m \u001b[0malign\u001b[0m\u001b[0;34m=\u001b[0m\u001b[0malign\u001b[0m\u001b[0;34m,\u001b[0m\u001b[0;34m\u001b[0m\u001b[0m\n\u001b[0;32m-> 2459\u001b[0;31m         **({\"data\": data} if data is not None else {}), **kwargs)\n\u001b[0m\u001b[1;32m   2460\u001b[0m \u001b[0;34m\u001b[0m\u001b[0m\n\u001b[1;32m   2461\u001b[0m \u001b[0;34m\u001b[0m\u001b[0m\n",
      "\u001b[0;32m~/anaconda3/lib/python3.6/site-packages/matplotlib/__init__.py\u001b[0m in \u001b[0;36minner\u001b[0;34m(ax, data, *args, **kwargs)\u001b[0m\n\u001b[1;32m   1803\u001b[0m                         \u001b[0;34m\"the Matplotlib list!)\"\u001b[0m \u001b[0;34m%\u001b[0m \u001b[0;34m(\u001b[0m\u001b[0mlabel_namer\u001b[0m\u001b[0;34m,\u001b[0m \u001b[0mfunc\u001b[0m\u001b[0;34m.\u001b[0m\u001b[0m__name__\u001b[0m\u001b[0;34m)\u001b[0m\u001b[0;34m,\u001b[0m\u001b[0;34m\u001b[0m\u001b[0m\n\u001b[1;32m   1804\u001b[0m                         RuntimeWarning, stacklevel=2)\n\u001b[0;32m-> 1805\u001b[0;31m             \u001b[0;32mreturn\u001b[0m \u001b[0mfunc\u001b[0m\u001b[0;34m(\u001b[0m\u001b[0max\u001b[0m\u001b[0;34m,\u001b[0m \u001b[0;34m*\u001b[0m\u001b[0margs\u001b[0m\u001b[0;34m,\u001b[0m \u001b[0;34m**\u001b[0m\u001b[0mkwargs\u001b[0m\u001b[0;34m)\u001b[0m\u001b[0;34m\u001b[0m\u001b[0m\n\u001b[0m\u001b[1;32m   1806\u001b[0m \u001b[0;34m\u001b[0m\u001b[0m\n\u001b[1;32m   1807\u001b[0m         inner.__doc__ = _add_data_doc(inner.__doc__,\n",
      "\u001b[0;32m~/anaconda3/lib/python3.6/site-packages/matplotlib/axes/_axes.py\u001b[0m in \u001b[0;36mbar\u001b[0;34m(self, x, height, width, bottom, align, **kwargs)\u001b[0m\n\u001b[1;32m   2241\u001b[0m         x, height, width, y, linewidth = np.broadcast_arrays(\n\u001b[1;32m   2242\u001b[0m             \u001b[0;31m# Make args iterable too.\u001b[0m\u001b[0;34m\u001b[0m\u001b[0;34m\u001b[0m\u001b[0m\n\u001b[0;32m-> 2243\u001b[0;31m             np.atleast_1d(x), height, width, y, linewidth)\n\u001b[0m\u001b[1;32m   2244\u001b[0m \u001b[0;34m\u001b[0m\u001b[0m\n\u001b[1;32m   2245\u001b[0m         \u001b[0;31m# Now that units have been converted, set the tick locations.\u001b[0m\u001b[0;34m\u001b[0m\u001b[0;34m\u001b[0m\u001b[0m\n",
      "\u001b[0;32m~/anaconda3/lib/python3.6/site-packages/numpy/lib/stride_tricks.py\u001b[0m in \u001b[0;36mbroadcast_arrays\u001b[0;34m(*args, **kwargs)\u001b[0m\n\u001b[1;32m    250\u001b[0m     \u001b[0margs\u001b[0m \u001b[0;34m=\u001b[0m \u001b[0;34m[\u001b[0m\u001b[0mnp\u001b[0m\u001b[0;34m.\u001b[0m\u001b[0marray\u001b[0m\u001b[0;34m(\u001b[0m\u001b[0m_m\u001b[0m\u001b[0;34m,\u001b[0m \u001b[0mcopy\u001b[0m\u001b[0;34m=\u001b[0m\u001b[0;32mFalse\u001b[0m\u001b[0;34m,\u001b[0m \u001b[0msubok\u001b[0m\u001b[0;34m=\u001b[0m\u001b[0msubok\u001b[0m\u001b[0;34m)\u001b[0m \u001b[0;32mfor\u001b[0m \u001b[0m_m\u001b[0m \u001b[0;32min\u001b[0m \u001b[0margs\u001b[0m\u001b[0;34m]\u001b[0m\u001b[0;34m\u001b[0m\u001b[0m\n\u001b[1;32m    251\u001b[0m \u001b[0;34m\u001b[0m\u001b[0m\n\u001b[0;32m--> 252\u001b[0;31m     \u001b[0mshape\u001b[0m \u001b[0;34m=\u001b[0m \u001b[0m_broadcast_shape\u001b[0m\u001b[0;34m(\u001b[0m\u001b[0;34m*\u001b[0m\u001b[0margs\u001b[0m\u001b[0;34m)\u001b[0m\u001b[0;34m\u001b[0m\u001b[0m\n\u001b[0m\u001b[1;32m    253\u001b[0m \u001b[0;34m\u001b[0m\u001b[0m\n\u001b[1;32m    254\u001b[0m     \u001b[0;32mif\u001b[0m \u001b[0mall\u001b[0m\u001b[0;34m(\u001b[0m\u001b[0marray\u001b[0m\u001b[0;34m.\u001b[0m\u001b[0mshape\u001b[0m \u001b[0;34m==\u001b[0m \u001b[0mshape\u001b[0m \u001b[0;32mfor\u001b[0m \u001b[0marray\u001b[0m \u001b[0;32min\u001b[0m \u001b[0margs\u001b[0m\u001b[0;34m)\u001b[0m\u001b[0;34m:\u001b[0m\u001b[0;34m\u001b[0m\u001b[0m\n",
      "\u001b[0;32m~/anaconda3/lib/python3.6/site-packages/numpy/lib/stride_tricks.py\u001b[0m in \u001b[0;36m_broadcast_shape\u001b[0;34m(*args)\u001b[0m\n\u001b[1;32m    185\u001b[0m     \u001b[0;31m# use the old-iterator because np.nditer does not handle size 0 arrays\u001b[0m\u001b[0;34m\u001b[0m\u001b[0;34m\u001b[0m\u001b[0m\n\u001b[1;32m    186\u001b[0m     \u001b[0;31m# consistently\u001b[0m\u001b[0;34m\u001b[0m\u001b[0;34m\u001b[0m\u001b[0m\n\u001b[0;32m--> 187\u001b[0;31m     \u001b[0mb\u001b[0m \u001b[0;34m=\u001b[0m \u001b[0mnp\u001b[0m\u001b[0;34m.\u001b[0m\u001b[0mbroadcast\u001b[0m\u001b[0;34m(\u001b[0m\u001b[0;34m*\u001b[0m\u001b[0margs\u001b[0m\u001b[0;34m[\u001b[0m\u001b[0;34m:\u001b[0m\u001b[0;36m32\u001b[0m\u001b[0;34m]\u001b[0m\u001b[0;34m)\u001b[0m\u001b[0;34m\u001b[0m\u001b[0m\n\u001b[0m\u001b[1;32m    188\u001b[0m     \u001b[0;31m# unfortunately, it cannot handle 32 or more arguments directly\u001b[0m\u001b[0;34m\u001b[0m\u001b[0;34m\u001b[0m\u001b[0m\n\u001b[1;32m    189\u001b[0m     \u001b[0;32mfor\u001b[0m \u001b[0mpos\u001b[0m \u001b[0;32min\u001b[0m \u001b[0mrange\u001b[0m\u001b[0;34m(\u001b[0m\u001b[0;36m32\u001b[0m\u001b[0;34m,\u001b[0m \u001b[0mlen\u001b[0m\u001b[0;34m(\u001b[0m\u001b[0margs\u001b[0m\u001b[0;34m)\u001b[0m\u001b[0;34m,\u001b[0m \u001b[0;36m31\u001b[0m\u001b[0;34m)\u001b[0m\u001b[0;34m:\u001b[0m\u001b[0;34m\u001b[0m\u001b[0m\n",
      "\u001b[0;31mValueError\u001b[0m: shape mismatch: objects cannot be broadcast to a single shape"
     ]
    },
    {
     "data": {
      "image/png": "[encoded data removed]",
      "text/plain": [
       "<Figure size 432x288 with 1 Axes>"
      ]
     },
     "metadata": {
      "needs_background": "light"
     },
     "output_type": "display_data"
    }
   ],
   "source": [
    "results = {\n",
    "    \"interpreter_java8_logo_fractal\": interpreter_java8_logo_fractal,\n",
    "    \"interpreter_graalvm_logo_fractal\": interpreter_graalvm_logo_fractal,\n",
    "    \"revisitor_java8_logo_fractal\": revisitor_java8_logo_fractal,\n",
    "    \"revisitor_graalvm_logo_fractal\": revisitor_graalvm_logo_fractal,\n",
    "    \"visitor_java8_logo_fractal\": visitor_java8_logo_fractal,\n",
    "    \"visitor_graalvm_logo_fractal\": visitor_graalvm_logo_fractal,\n",
    "    \"interpreter_graalvmtruffle_logo_fractal\": interpreter_graalvmtruffle_logo_fractal\n",
    "}\n",
    "\n",
    "\n",
    "medians = {k: median(v) for k, v in results.items()}\n",
    "sums = {k: sum(v) for k, v in results.items()}\n",
    "averages = {k: average(v) for k, v in results.items()}\n",
    "print({k: len(v) for k, v in results.items()})\n",
    "print('medians', medians)\n",
    "print('sums', sums)\n",
    "print('avgs', averages)\n",
    "\n",
    "\n",
    "fig, ax = plt.subplots()\n",
    "plt.xticks(rotation=90)\n",
    "plt.bar([0,1,2,3, 4, 5], (medians['interpreter_java8_logo_fractal'], medians['visitor_java8_logo_fractal'],medians['revisitor_java8_logo_fractal'], medians['interpreter_graalvm_logo_fractal'], medians['visitor_graalvm_logo_fractal'], medians['revisitor_graalvm_logo_fractal'], medians['interpreter_graalvmtruffle_logo_fractal']))\n",
    "ax.set_xticks([0,1,2,3, 4, 5])\n",
    "ax.set_xticklabels(['interpreter_java8_logo_fractal', 'visitor_java8_logo_fractal', 'revisitor_java8_logo_fractal',  'interpreter_graalvm_logo_fractal',  'visitor_graalvm_logo_fractal', 'revisitor_graalvm_logo_fractal', 'interpreter_graalvmtruffle_logo_fractal'])\n",
    "plt.show()\n",
    "\n",
    "plt.figure(figsize=(10,10))\n",
    "handles=[]\n",
    "for k, v in results.items():\n",
    "    # plt.axhline(y=median(v))\n",
    "    h, = plt.plot(v, label=k)\n",
    "    handles.append(h)\n",
    "plt.legend(handles=handles)\n",
    "plt.show()\n",
    "\n",
    "\n"
   ]
  },
  {
   "cell_type": "code",
   "execution_count": null,
   "metadata": {},
   "outputs": [],
   "source": [
    "results = {\n",
    "  \"interpreter_graalvm_boa_fib10\": interpreter_graalvm_boa_fib10,\n",
    "  \"interpreter_graalvm_boa_fib15\": interpreter_graalvm_boa_fib15,\n",
    "  \"revisitor_graalvm_boa_fib10\": revisitor_graalvm_boa_fib10,\n",
    "  \"revisitor_graalvm_boa_fib15\": revisitor_graalvm_boa_fib15,\n",
    "  \"visitor_graalvm_boa_fib10\": visitor_graalvm_boa_fib10,\n",
    "  \"visitor_graalvm_boa_fib15\": visitor_graalvm_boa_fib15\n",
    "}\n",
    "\n",
    "medians = {k: median(v) for k, v in results.items()}\n",
    "sums = {k: sum(v) for k, v in results.items()}\n",
    "averages = {k: average(v) for k, v in results.items()}\n",
    "print({k: len(v) for k, v in results.items()})\n",
    "print(medians)\n",
    "print(sums)\n",
    "print(averages)\n",
    "\n",
    "plt.figure(figsize=(10,10))\n",
    "handles=[]\n",
    "for k, v in results.items():\n",
    "    # plt.axhline(y=median(v))\n",
    "    h, = plt.plot(v, label=k)\n",
    "    handles.append(h)\n",
    "plt.legend(handles=handles)\n",
    "plt.show()\n",
    "\n",
    "\n"
   ]
  },
  {
   "cell_type": "code",
   "execution_count": null,
   "metadata": {},
   "outputs": [],
   "source": [
    "results = {\n",
    "  \"interpreter_graalvm_boa_fib15\": interpreter_graalvm_boa_fib15,\n",
    "  \"interpreter_java8_boa_fib15\": interpreter_java8_boa_fib15,\n",
    "  \"revisitor_graalvm_boa_fib15\": revisitor_graalvm_boa_fib15,\n",
    "  \"revisitor_java8_boa_fib15\": revisitor_java8_boa_fib15,\n",
    "  \"visitor_graalvm_boa_fib15\": visitor_graalvm_boa_fib15,\n",
    "  \"visitor_java8_boa_fib15\": visitor_java8_boa_fib15\n",
    "}\n",
    "\n",
    "medians = {k: median(v) for k, v in results.items()}\n",
    "sums = {k: sum(v) for k, v in results.items()}\n",
    "averages = {k: average(v) for k, v in results.items()}\n",
    "print({k: len(v) for k, v in results.items()})\n",
    "print(medians)\n",
    "print(sums)\n",
    "print(averages)\n",
    "\n",
    "print(\"Medians\")\n",
    "for k, v in medians.items(): print(k, v)\n",
    "print(\"Sums\")\n",
    "for k, v in sums.items(): print(k, v)\n",
    "print(\"Average\")\n",
    "for k, v in averages.items(): print(k, v)\n",
    "    \n",
    "plt.plot([v for k,v in medians.items()])\n",
    "plt.show()\n",
    "\n",
    "plt.figure(figsize=(10,10))\n",
    "handles=[]\n",
    "for k, v in results.items():\n",
    "    # plt.axhline(y=median(v))\n",
    "    h, = plt.plot(v, label=k)\n",
    "    handles.append(h)\n",
    "plt.legend(handles=handles)\n",
    "plt.show()"
   ]
  },
  {
   "cell_type": "code",
   "execution_count": null,
   "metadata": {},
   "outputs": [],
   "source": [
    "results = {\n",
    "  \"interpreter_java8_boa_fib10\": interpreter_java8_boa_fib10,\n",
    "  \"interpreter_java8_boa_fib15\": interpreter_java8_boa_fib15,\n",
    "  \"revisitor_java8_boa_fib10\": revisitor_java8_boa_fib10,\n",
    "  \"revisitor_java8_boa_fib15\": revisitor_java8_boa_fib15,\n",
    "  \"visitor_java8_boa_fib10\": visitor_java8_boa_fib10,\n",
    "  \"visitor_java8_boa_fib15\": visitor_java8_boa_fib15\n",
    "}\n",
    "\n",
    "medians = {k: median(v) for k, v in results.items()}\n",
    "sums = {k: sum(v) for k, v in results.items()}\n",
    "averages = {k: average(v) for k, v in results.items()}\n",
    "print({k: len(v) for k, v in results.items()})\n",
    "print(medians)\n",
    "print(sums)\n",
    "print(averages)\n",
    "\n",
    "print(\"Medians\")\n",
    "for k, v in medians.items(): print(k, v)\n",
    "print(\"Sums\")\n",
    "for k, v in sums.items(): print(k, v)\n",
    "print(\"Average\")\n",
    "for k, v in averages.items(): print(k, v)\n",
    "\n",
    "plt.figure(figsize=(10,10))\n",
    "handles=[]\n",
    "for k, v in results.items():\n",
    "    # plt.axhline(y=median(v))\n",
    "    h, = plt.plot(v, label=k)\n",
    "    handles.append(h)\n",
    "plt.legend(handles=handles)\n",
    "plt.show()\n"
   ]
  }
 ],
 "metadata": {
  "kernelspec": {
   "display_name": "Python 3",
   "language": "python",
   "name": "python3"
  },
  "language_info": {
   "codemirror_mode": {
    "name": "ipython",
    "version": 3
   },
   "file_extension": ".py",
   "mimetype": "text/x-python",
   "name": "python",
   "nbconvert_exporter": "python",
   "pygments_lexer": "ipython3",
   "version": "3.6.6"
  }
 },
 "nbformat": 4,
 "nbformat_minor": 2
}
